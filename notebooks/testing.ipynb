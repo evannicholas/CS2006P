{
 "cells": [
  {
   "cell_type": "code",
   "execution_count": 23,
   "metadata": {},
   "outputs": [],
   "source": [
    "import pandas as pd\n",
    "import numpy as np\n",
    "import sys\n",
    "import unittest\n",
    "import time\n",
    "import datetime"
   ]
  },
  {
   "cell_type": "code",
   "execution_count": 24,
   "metadata": {},
   "outputs": [],
   "source": [
    "sys.path.append('../code')"
   ]
  },
  {
   "cell_type": "code",
   "execution_count": 25,
   "metadata": {},
   "outputs": [],
   "source": [
    "import generateGraphs as gg\n",
    "import fixdata as fd"
   ]
  },
  {
   "cell_type": "code",
   "execution_count": 26,
   "metadata": {},
   "outputs": [],
   "source": [
    "def readCSV():\n",
    "       df = pd.read_csv(\"../data/CometLandingFixed.csv\",\n",
    "                 dtype={\"id_str\": str, \"in_reply_to_user_id_str\": str, \"from_user_id_str\": str,\n",
    "                        \"in_reply_to_status_id_str\": str, \"user_followers_count\": \"Int64\",\n",
    "                        \"user_friends_count\": \"Int64\", \"geo_coordinates\": str, \"retweet_user_id_str\": str}\n",
    "                 , parse_dates=['created_at']\n",
    "                 )\n",
    "       return df"
   ]
  },
  {
   "cell_type": "code",
   "execution_count": 27,
   "metadata": {},
   "outputs": [],
   "source": [
    "class Tests(unittest.TestCase):\n",
    "    # Test on if filtering of dates is functioning properly.\n",
    "    def test_one(self):\n",
    "       df = readCSV()\n",
    "       start_date = time.mktime(datetime.datetime.strptime(\n",
    "           '2014/11/12', \"%Y/%m/%d\").timetuple())\n",
    "       end_date = time.mktime(datetime.datetime.strptime(\n",
    "           '2014/12/06', \"%Y/%m/%d\").timetuple())\n",
    "\n",
    "       test_date_after_out = time.mktime(\n",
    "           datetime.datetime.strptime('2014/12/07', \"%Y/%m/%d\").timetuple())\n",
    "       test_date_before_out= time.mktime(\n",
    "           datetime.datetime.strptime('2014/11/11', \"%Y/%m/%d\").timetuple())\n",
    "\n",
    "       fd.filter_data(df)\n",
    "       for date in df['created_at']:\n",
    "           self.assertEqual(True, (date.timestamp() >= start_date))\n",
    "           self.assertEqual(True, (date.timestamp() < end_date))\n",
    "\n",
    "       self.assertEqual(False, (test_date_before_out >= start_date))\n",
    "       self.assertEqual(True, (test_date_before_out < end_date))\n",
    "\n",
    "       self.assertEqual(True, (test_date_after_out >= start_date))\n",
    "       self.assertEqual(False, (test_date_after_out < end_date))\n",
    "\n",
    "    pass\n",
    "\n",
    "    # Test on if filtering of duplicates and null records is functioning properly.\n",
    "    def test_two(self):\n",
    "       df = readCSV()\n",
    "       noOfRecordsBefore = len(df)\n",
    "\n",
    "       fd.filter_data(df)\n",
    "       noOfRecordsAfter = len(df)\n",
    "       self.assertEqual(noOfRecordsBefore, noOfRecordsAfter) # Nothing removed\n",
    "\n",
    "       df.iloc[noOfRecordsBefore - 1] = df.iloc[1]\n",
    "       #df.iloc[noOfRecordsBefore - 2] = NULL\n",
    "       noOfRecordsBefore = len(df)\n",
    "       fd.filter_data(df)\n",
    "       noOfRecordsAfter = len(df)\n",
    "\n",
    "       # One duplicate record removed\n",
    "       self.assertEqual(noOfRecordsBefore - 1, noOfRecordsAfter)\n",
    "\n",
    "    pass\n",
    "\n",
    "    # Tests that unique users amount is found.\n",
    "    def test_three(self):\n",
    "       df = readCSV()\n",
    "       df2 = readCSV()\n",
    "       df.iloc[0] = df.iloc[4]\n",
    "       df.iloc[1] = df.iloc[4]\n",
    "       df.iloc[2] = df.iloc[4]\n",
    "       df.iloc[3] = df.iloc[4]\n",
    "\n",
    "\n",
    "       fd.filter_data(df)\n",
    "       uniqueUsers = len(df)\n",
    "       uniqueUsersTest = len(df2)\n",
    "       self.assertEqual(uniqueUsers + 4, uniqueUsersTest)\n",
    "    pass\n",
    "\n",
    "    # Tests that unique hashtags are found.\n",
    "    def test_four(self):\n",
    "       df = readCSV()\n",
    "       allHashtags = gg.getListOfAllHashTags(\"../data/CometLandingFixed.json\")\n",
    "       unique = gg.getListOfUniqueHashtags(allHashtags.append('67P'))\n",
    "       newunique = pd.Series(allHashtags)\n",
    "       unique2 = newunique.unique()\n",
    "\n",
    "       self.assertEqual(len(unique) < len(allHashtags), True)\n",
    "       for i in range(len(unique)):\n",
    "          self.assertEqual(unique[i], unique2[i])\n",
    "    pass\n",
    "    # Tests that top 25 hashtags are the same found in functions.\n",
    "    def test_five(self):\n",
    "       df = readCSV()\n",
    "       allHashtags = gg.getListOfAllHashTags(\"../data/CometLandingFixed.json\")\n",
    "       unique = gg.getListOfUniqueHashtags(allHashtags)\n",
    "       newdf = gg.createDataFrameOfHashtagsAndFills(unique, allHashtags)\n",
    "       newdf2 = newdf.reset_index()\n",
    "       for i in range(25):\n",
    "          self.assertEqual(newdf2['Frequency'][i],\n",
    "                           allHashtags.count(newdf2['Hashtags'][i]))\n",
    "    pass\n",
    "\n",
    "    def test_six(self):\n",
    "       df = readCSV()\n",
    "       beforeRemovedNan = len(df)\n",
    "\n",
    "       df['id_str'][0] = np.nan\n",
    "       recordThatWillReplace = df['id_str'][1]\n",
    "       self.assertEqual(pd.isna(df['id_str'][0]), True)\n",
    "\n",
    "       fd.filter_data(df)\n",
    "\n",
    "       afterRemovedNan = len(df)\n",
    "       self.assertEqual(beforeRemovedNan - 1, afterRemovedNan)\n",
    "       self.assertEqual(df['id_str'][1], recordThatWillReplace)\n",
    "    pass\n",
    "\n",
    "    def test_seven(self):\n",
    "       df = readCSV()\n",
    "       beforeRemovedNan = len(df)\n",
    "\n",
    "       df['text'][0] = np.nan\n",
    "       recordThatWillReplace = df['text'][1]\n",
    "       self.assertEqual(pd.isna(df['text'][0]), True)\n",
    "\n",
    "       fd.filter_data(df)\n",
    "\n",
    "       afterRemovedNan = len(df)\n",
    "       self.assertEqual(beforeRemovedNan - 1, afterRemovedNan)\n",
    "       self.assertEqual(df['text'][1], recordThatWillReplace)\n",
    "    pass\n",
    "\n",
    "    def test_eight(self):\n",
    "       df = readCSV()\n",
    "       beforeRemovedNan = len(df)\n",
    "\n",
    "       df['from_user_id_str'][0] = np.nan\n",
    "       recordThatWillReplace = df['from_user_id_str'][1]\n",
    "       self.assertEqual(pd.isna(df['from_user_id_str'][0]), True)\n",
    "\n",
    "       fd.filter_data(df)\n",
    "\n",
    "       afterRemovedNan = len(df)\n",
    "       self.assertEqual(beforeRemovedNan - 1, afterRemovedNan)\n",
    "       self.assertEqual(df['from_user_id_str'][1], recordThatWillReplace)\n",
    "    pass\n",
    "\n",
    "    def test_nine(self):\n",
    "       df = readCSV()\n",
    "       beforeRemovedNan = len(df)\n",
    "\n",
    "       df['entities_str'][0] = np.nan\n",
    "       recordThatWillReplace = df['entities_str'][1]\n",
    "       self.assertEqual(pd.isna(df['entities_str'][0]), True)\n",
    "\n",
    "       fd.filter_data(df)\n",
    "\n",
    "       afterRemovedNan = len(df)\n",
    "       self.assertEqual(beforeRemovedNan - 1, afterRemovedNan)\n",
    "       self.assertEqual(df['entities_str'][1], recordThatWillReplace)\n",
    "    pass\n",
    "\n",
    "    def test_ten(self):\n",
    "        df = readCSV()\n",
    "        #print(df)\n",
    "        #print(df['entities_str'][0])\n",
    "        df['entities_str'][0] = \"{'hashtags':[{'text':'Philae','indices':[49,56]},{'text':'google','indices':[139,140]}],'symbols':[],'user_mentions':[{'screen_name':'VersaTechnology','name':'Versa Technology','id':30264992,'id_str':'30264992','indices':[3,19]},{'screen_name':'Philae2014','name':'Philae Lander','id':208442526,'id_str':'208442526','indices':[37,48]}],'urls':[{'url':'http://t.co/6SoGeZTS9N','expanded_url':'http://cnn.it/1qDQu0s','display_url':'cnn.it/1qDQu0s','indices':[139,140]}]}\"\n",
    "        #print(df['entities_str'][0])\n",
    "        beforeRemoval = len(df)\n",
    "        fd.filter_data(df)\n",
    "        afterRemoval = len(df)\n",
    "        #print(df)\n",
    "        self.assertEqual(beforeRemoval - 1, afterRemoval)\n",
    "    pass"
   ]
  },
  {
   "cell_type": "code",
   "execution_count": 28,
   "metadata": {},
   "outputs": [],
   "source": [
    "def suite():\n",
    " loader = unittest.TestLoader()\n",
    " testsuite = loader.loadTestsFromTestCase(Tests)\n",
    " return testsuite"
   ]
  },
  {
   "cell_type": "code",
   "execution_count": 29,
   "metadata": {},
   "outputs": [],
   "source": [
    "def test():\n",
    " testsuite = suite()\n",
    " runner = unittest.TextTestRunner(sys.stdout, verbosity=2)\n",
    " result = runner.run(testsuite)"
   ]
  },
  {
   "cell_type": "code",
   "execution_count": 30,
   "metadata": {},
   "outputs": [
    {
     "name": "stdout",
     "output_type": "stream",
     "text": [
      "test_eight (__main__.Tests) ... "
     ]
    },
    {
     "name": "stderr",
     "output_type": "stream",
     "text": [
      "C:\\Users\\thoma\\AppData\\Local\\Temp/ipykernel_52372/1800001868.py:122: SettingWithCopyWarning: \n",
      "A value is trying to be set on a copy of a slice from a DataFrame\n",
      "\n",
      "See the caveats in the documentation: https://pandas.pydata.org/pandas-docs/stable/user_guide/indexing.html#returning-a-view-versus-a-copy\n",
      "  df['from_user_id_str'][0] = np.nan\n"
     ]
    },
    {
     "name": "stdout",
     "output_type": "stream",
     "text": [
      "ok\n",
      "test_five (__main__.Tests) ... "
     ]
    },
    {
     "name": "stderr",
     "output_type": "stream",
     "text": [
      "c:\\Users\\thoma\\OneDrive\\Desktop\\Year 2\\Semester 2\\CS2006\\PPractical\\CS2006P\\notebooks\\../code\\generateGraphs.py:166: SettingWithCopyWarning: \n",
      "A value is trying to be set on a copy of a slice from a DataFrame\n",
      "\n",
      "See the caveats in the documentation: https://pandas.pydata.org/pandas-docs/stable/user_guide/indexing.html#returning-a-view-versus-a-copy\n",
      "  df['Frequency'][index] += 1\n"
     ]
    },
    {
     "name": "stdout",
     "output_type": "stream",
     "text": [
      "ok\n",
      "test_four (__main__.Tests) ... ok\n",
      "test_nine (__main__.Tests) ... "
     ]
    },
    {
     "name": "stderr",
     "output_type": "stream",
     "text": [
      "C:\\Users\\thoma\\AppData\\Local\\Temp/ipykernel_52372/1800001868.py:137: SettingWithCopyWarning: \n",
      "A value is trying to be set on a copy of a slice from a DataFrame\n",
      "\n",
      "See the caveats in the documentation: https://pandas.pydata.org/pandas-docs/stable/user_guide/indexing.html#returning-a-view-versus-a-copy\n",
      "  df['entities_str'][0] = np.nan\n"
     ]
    },
    {
     "name": "stdout",
     "output_type": "stream",
     "text": [
      "ok\n",
      "test_one (__main__.Tests) ... ok\n",
      "test_seven (__main__.Tests) ... "
     ]
    },
    {
     "name": "stderr",
     "output_type": "stream",
     "text": [
      "C:\\Users\\thoma\\AppData\\Local\\Temp/ipykernel_52372/1800001868.py:107: SettingWithCopyWarning: \n",
      "A value is trying to be set on a copy of a slice from a DataFrame\n",
      "\n",
      "See the caveats in the documentation: https://pandas.pydata.org/pandas-docs/stable/user_guide/indexing.html#returning-a-view-versus-a-copy\n",
      "  df['text'][0] = np.nan\n"
     ]
    },
    {
     "name": "stdout",
     "output_type": "stream",
     "text": [
      "ok\n",
      "test_six (__main__.Tests) ... "
     ]
    },
    {
     "name": "stderr",
     "output_type": "stream",
     "text": [
      "C:\\Users\\thoma\\AppData\\Local\\Temp/ipykernel_52372/1800001868.py:92: SettingWithCopyWarning: \n",
      "A value is trying to be set on a copy of a slice from a DataFrame\n",
      "\n",
      "See the caveats in the documentation: https://pandas.pydata.org/pandas-docs/stable/user_guide/indexing.html#returning-a-view-versus-a-copy\n",
      "  df['id_str'][0] = np.nan\n"
     ]
    },
    {
     "name": "stdout",
     "output_type": "stream",
     "text": [
      "ok\n",
      "test_ten (__main__.Tests) ... "
     ]
    },
    {
     "name": "stderr",
     "output_type": "stream",
     "text": [
      "C:\\Users\\thoma\\AppData\\Local\\Temp/ipykernel_52372/1800001868.py:152: SettingWithCopyWarning: \n",
      "A value is trying to be set on a copy of a slice from a DataFrame\n",
      "\n",
      "See the caveats in the documentation: https://pandas.pydata.org/pandas-docs/stable/user_guide/indexing.html#returning-a-view-versus-a-copy\n",
      "  df['entities_str'][0] = \"{'hashtags':[{'text':'Philae','indices':[49,56]},{'text':'google','indices':[139,140]}],'symbols':[],'user_mentions':[{'screen_name':'VersaTechnology','name':'Versa Technology','id':30264992,'id_str':'30264992','indices':[3,19]},{'screen_name':'Philae2014','name':'Philae Lander','id':208442526,'id_str':'208442526','indices':[37,48]}],'urls':[{'url':'http://t.co/6SoGeZTS9N','expanded_url':'http://cnn.it/1qDQu0s','display_url':'cnn.it/1qDQu0s','indices':[139,140]}]}\"\n"
     ]
    },
    {
     "name": "stdout",
     "output_type": "stream",
     "text": [
      "ok\n",
      "test_three (__main__.Tests) ... ok\n",
      "test_two (__main__.Tests) ... ok\n",
      "\n",
      "----------------------------------------------------------------------\n",
      "Ran 10 tests in 87.138s\n",
      "\n",
      "OK\n"
     ]
    }
   ],
   "source": [
    "test()"
   ]
  }
 ],
 "metadata": {
  "interpreter": {
   "hash": "4e45a42a02399ef7d405ae537aa782b13f90516b24d23472bed56c0be54a5ad5"
  },
  "kernelspec": {
   "display_name": "Python 3.9.7 ('base')",
   "language": "python",
   "name": "python3"
  },
  "language_info": {
   "codemirror_mode": {
    "name": "ipython",
    "version": 3
   },
   "file_extension": ".py",
   "mimetype": "text/x-python",
   "name": "python",
   "nbconvert_exporter": "python",
   "pygments_lexer": "ipython3",
   "version": "3.9.7"
  },
  "orig_nbformat": 4
 },
 "nbformat": 4,
 "nbformat_minor": 2
}
